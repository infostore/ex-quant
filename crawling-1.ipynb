{
 "cells": [
  {
   "cell_type": "code",
   "execution_count": 1,
   "metadata": {},
   "outputs": [
    {
     "name": "stdout",
     "output_type": "stream",
     "text": [
      "<Response [200]>\n"
     ]
    }
   ],
   "source": [
    "import requests as rq\n",
    "\n",
    "url = 'https://quotes.toscrape.com/'\n",
    "quote = rq.get(url)\n",
    "\n",
    "print(quote)"
   ]
  },
  {
   "cell_type": "code",
   "execution_count": 2,
   "metadata": {},
   "outputs": [
    {
     "data": {
      "text/plain": [
       "b'<!DOCTYPE html>\\n<html lang=\"en\">\\n<head>\\n\\t<meta charset=\"UTF-8\">\\n\\t<title>Quotes to Scrape</title>\\n    <link rel=\"stylesheet\" href=\"/static/bootstrap.min.css\">\\n    <link rel=\"stylesheet\" href=\"/static/main.css\">\\n</head>\\n<body>\\n    <div class=\"container\">\\n        <div class=\"row header-box\">\\n            <div class=\"col-md-8\">\\n                <h1>\\n                    <a href=\"/\" style=\"text-decoration: none\">Quotes to Scrape</a>\\n                </h1>\\n            </div>\\n            <div class=\"col-md-4\">\\n                <p>\\n                \\n                    <a href=\"/login\">Login</a>\\n                \\n                </p>\\n            </div>\\n        </div>\\n    \\n\\n<div class=\"row\">\\n    <div class=\"col-md-8\">\\n\\n    <div class=\"quote\" itemscope itemtype=\"http://schema.org/CreativeWork\">\\n        <span class=\"text\" itemprop=\"text\">\\xe2\\x80\\x9cThe world as we have created it is a process of our thinking. It cannot be changed without changing our thinking.\\xe2\\x80\\x9d</span>\\n        <span>by <small class=\"author\" it'"
      ]
     },
     "execution_count": 2,
     "metadata": {},
     "output_type": "execute_result"
    }
   ],
   "source": [
    "quote.content[:1000]"
   ]
  },
  {
   "cell_type": "code",
   "execution_count": 3,
   "metadata": {},
   "outputs": [
    {
     "data": {
      "text/plain": [
       "[<meta charset=\"utf-8\"/>,\n",
       " <title>Quotes to Scrape</title>,\n",
       " <link href=\"/static/bootstrap.min.css\" rel=\"stylesheet\"/>,\n",
       " <link href=\"/static/main.css\" rel=\"stylesheet\"/>]"
      ]
     },
     "execution_count": 3,
     "metadata": {},
     "output_type": "execute_result"
    }
   ],
   "source": [
    "from bs4 import BeautifulSoup\n",
    "\n",
    "quote_html = BeautifulSoup(quote.content, 'html.parser')\n",
    "quote_html.head()"
   ]
  },
  {
   "cell_type": "code",
   "execution_count": 4,
   "metadata": {},
   "outputs": [
    {
     "data": {
      "text/plain": [
       "<div class=\"quote\" itemscope=\"\" itemtype=\"http://schema.org/CreativeWork\">\n",
       "<span class=\"text\" itemprop=\"text\">“The world as we have created it is a process of our thinking. It cannot be changed without changing our thinking.”</span>\n",
       "<span>by <small class=\"author\" itemprop=\"author\">Albert Einstein</small>\n",
       "<a href=\"/author/Albert-Einstein\">(about)</a>\n",
       "</span>\n",
       "<div class=\"tags\">\n",
       "            Tags:\n",
       "            <meta class=\"keywords\" content=\"change,deep-thoughts,thinking,world\" itemprop=\"keywords\"/>\n",
       "<a class=\"tag\" href=\"/tag/change/page/1/\">change</a>\n",
       "<a class=\"tag\" href=\"/tag/deep-thoughts/page/1/\">deep-thoughts</a>\n",
       "<a class=\"tag\" href=\"/tag/thinking/page/1/\">thinking</a>\n",
       "<a class=\"tag\" href=\"/tag/world/page/1/\">world</a>\n",
       "</div>\n",
       "</div>"
      ]
     },
     "execution_count": 4,
     "metadata": {},
     "output_type": "execute_result"
    }
   ],
   "source": [
    "quote_div = quote_html.find_all('div', class_='quote')\n",
    "quote_div[0]"
   ]
  },
  {
   "cell_type": "code",
   "execution_count": 5,
   "metadata": {},
   "outputs": [
    {
     "data": {
      "text/plain": [
       "['“The world as we have created it is a process of our thinking. It cannot be changed without changing our thinking.”',\n",
       " '“It is our choices, Harry, that show what we truly are, far more than our abilities.”',\n",
       " '“There are only two ways to live your life. One is as though nothing is a miracle. The other is as though everything is a miracle.”',\n",
       " '“The person, be it gentleman or lady, who has not pleasure in a good novel, must be intolerably stupid.”',\n",
       " \"“Imperfection is beauty, madness is genius and it's better to be absolutely ridiculous than absolutely boring.”\",\n",
       " '“Try not to become a man of success. Rather become a man of value.”',\n",
       " '“It is better to be hated for what you are than to be loved for what you are not.”',\n",
       " \"“I have not failed. I've just found 10,000 ways that won't work.”\",\n",
       " \"“A woman is like a tea bag; you never know how strong it is until it's in hot water.”\",\n",
       " '“A day without sunshine is like, you know, night.”']"
      ]
     },
     "execution_count": 5,
     "metadata": {},
     "output_type": "execute_result"
    }
   ],
   "source": [
    "quote_div = quote_html.find_all('div', class_='quote')\n",
    "[i.find_all('span', class_='text')[0].text for i in quote_div]"
   ]
  },
  {
   "cell_type": "code",
   "execution_count": 7,
   "metadata": {},
   "outputs": [
    {
     "data": {
      "text/plain": [
       "['“The world as we have created it is a process of our thinking. It cannot be changed without changing our thinking.”',\n",
       " '“It is our choices, Harry, that show what we truly are, far more than our abilities.”',\n",
       " '“There are only two ways to live your life. One is as though nothing is a miracle. The other is as though everything is a miracle.”',\n",
       " '“The person, be it gentleman or lady, who has not pleasure in a good novel, must be intolerably stupid.”',\n",
       " \"“Imperfection is beauty, madness is genius and it's better to be absolutely ridiculous than absolutely boring.”\",\n",
       " '“Try not to become a man of success. Rather become a man of value.”',\n",
       " '“It is better to be hated for what you are than to be loved for what you are not.”',\n",
       " \"“I have not failed. I've just found 10,000 ways that won't work.”\",\n",
       " \"“A woman is like a tea bag; you never know how strong it is until it's in hot water.”\",\n",
       " '“A day without sunshine is like, you know, night.”']"
      ]
     },
     "execution_count": 7,
     "metadata": {},
     "output_type": "execute_result"
    }
   ],
   "source": [
    "quote_text = quote_html.select('div.quote > span.text')\n",
    "quote_text_list = [i.text for i in quote_text]\n",
    "quote_text_list"
   ]
  },
  {
   "cell_type": "code",
   "execution_count": 8,
   "metadata": {},
   "outputs": [
    {
     "data": {
      "text/plain": [
       "['https://quotes.toscrape.com/author/Albert-Einstein',\n",
       " 'https://quotes.toscrape.com/author/J-K-Rowling',\n",
       " 'https://quotes.toscrape.com/author/Albert-Einstein',\n",
       " 'https://quotes.toscrape.com/author/Jane-Austen',\n",
       " 'https://quotes.toscrape.com/author/Marilyn-Monroe',\n",
       " 'https://quotes.toscrape.com/author/Albert-Einstein',\n",
       " 'https://quotes.toscrape.com/author/Andre-Gide',\n",
       " 'https://quotes.toscrape.com/author/Thomas-A-Edison',\n",
       " 'https://quotes.toscrape.com/author/Eleanor-Roosevelt',\n",
       " 'https://quotes.toscrape.com/author/Steve-Martin']"
      ]
     },
     "execution_count": 8,
     "metadata": {},
     "output_type": "execute_result"
    }
   ],
   "source": [
    "quote_link = quote_html.select('div.quote > span > a')\n",
    "['https://quotes.toscrape.com' + i['href'] for i in quote_link]"
   ]
  },
  {
   "cell_type": "code",
   "execution_count": 11,
   "metadata": {},
   "outputs": [
    {
     "data": {
      "text/html": [
       "<div>\n",
       "<style scoped>\n",
       "    .dataframe tbody tr th:only-of-type {\n",
       "        vertical-align: middle;\n",
       "    }\n",
       "\n",
       "    .dataframe tbody tr th {\n",
       "        vertical-align: top;\n",
       "    }\n",
       "\n",
       "    .dataframe thead th {\n",
       "        text-align: right;\n",
       "    }\n",
       "</style>\n",
       "<table border=\"1\" class=\"dataframe\">\n",
       "  <thead>\n",
       "    <tr style=\"text-align: right;\">\n",
       "      <th></th>\n",
       "      <th>text</th>\n",
       "      <th>author</th>\n",
       "      <th>infor</th>\n",
       "    </tr>\n",
       "  </thead>\n",
       "  <tbody>\n",
       "    <tr>\n",
       "      <th>0</th>\n",
       "      <td>“The world as we have created it is a process ...</td>\n",
       "      <td>Albert Einstein</td>\n",
       "      <td>https://quotes.toscrape.com/author/Albert-Eins...</td>\n",
       "    </tr>\n",
       "    <tr>\n",
       "      <th>1</th>\n",
       "      <td>“It is our choices, Harry, that show what we t...</td>\n",
       "      <td>J.K. Rowling</td>\n",
       "      <td>https://quotes.toscrape.com/author/J-K-Rowling</td>\n",
       "    </tr>\n",
       "    <tr>\n",
       "      <th>2</th>\n",
       "      <td>“There are only two ways to live your life. On...</td>\n",
       "      <td>Albert Einstein</td>\n",
       "      <td>https://quotes.toscrape.com/author/Albert-Eins...</td>\n",
       "    </tr>\n",
       "    <tr>\n",
       "      <th>3</th>\n",
       "      <td>“The person, be it gentleman or lady, who has ...</td>\n",
       "      <td>Jane Austen</td>\n",
       "      <td>https://quotes.toscrape.com/author/Jane-Austen</td>\n",
       "    </tr>\n",
       "    <tr>\n",
       "      <th>4</th>\n",
       "      <td>“Imperfection is beauty, madness is genius and...</td>\n",
       "      <td>Marilyn Monroe</td>\n",
       "      <td>https://quotes.toscrape.com/author/Marilyn-Monroe</td>\n",
       "    </tr>\n",
       "    <tr>\n",
       "      <th>...</th>\n",
       "      <td>...</td>\n",
       "      <td>...</td>\n",
       "      <td>...</td>\n",
       "    </tr>\n",
       "    <tr>\n",
       "      <th>95</th>\n",
       "      <td>“You never really understand a person until yo...</td>\n",
       "      <td>Harper Lee</td>\n",
       "      <td>https://quotes.toscrape.com/author/Harper-Lee</td>\n",
       "    </tr>\n",
       "    <tr>\n",
       "      <th>96</th>\n",
       "      <td>“You have to write the book that wants to be w...</td>\n",
       "      <td>Madeleine L'Engle</td>\n",
       "      <td>https://quotes.toscrape.com/author/Madeleine-L...</td>\n",
       "    </tr>\n",
       "    <tr>\n",
       "      <th>97</th>\n",
       "      <td>“Never tell the truth to people who are not wo...</td>\n",
       "      <td>Mark Twain</td>\n",
       "      <td>https://quotes.toscrape.com/author/Mark-Twain</td>\n",
       "    </tr>\n",
       "    <tr>\n",
       "      <th>98</th>\n",
       "      <td>“A person's a person, no matter how small.”</td>\n",
       "      <td>Dr. Seuss</td>\n",
       "      <td>https://quotes.toscrape.com/author/Dr-Seuss</td>\n",
       "    </tr>\n",
       "    <tr>\n",
       "      <th>99</th>\n",
       "      <td>“... a mind needs books as a sword needs a whe...</td>\n",
       "      <td>George R.R. Martin</td>\n",
       "      <td>https://quotes.toscrape.com/author/George-R-R-...</td>\n",
       "    </tr>\n",
       "  </tbody>\n",
       "</table>\n",
       "<p>100 rows × 3 columns</p>\n",
       "</div>"
      ],
      "text/plain": [
       "                                                 text              author  \\\n",
       "0   “The world as we have created it is a process ...     Albert Einstein   \n",
       "1   “It is our choices, Harry, that show what we t...        J.K. Rowling   \n",
       "2   “There are only two ways to live your life. On...     Albert Einstein   \n",
       "3   “The person, be it gentleman or lady, who has ...         Jane Austen   \n",
       "4   “Imperfection is beauty, madness is genius and...      Marilyn Monroe   \n",
       "..                                                ...                 ...   \n",
       "95  “You never really understand a person until yo...          Harper Lee   \n",
       "96  “You have to write the book that wants to be w...   Madeleine L'Engle   \n",
       "97  “Never tell the truth to people who are not wo...          Mark Twain   \n",
       "98        “A person's a person, no matter how small.”           Dr. Seuss   \n",
       "99  “... a mind needs books as a sword needs a whe...  George R.R. Martin   \n",
       "\n",
       "                                                infor  \n",
       "0   https://quotes.toscrape.com/author/Albert-Eins...  \n",
       "1      https://quotes.toscrape.com/author/J-K-Rowling  \n",
       "2   https://quotes.toscrape.com/author/Albert-Eins...  \n",
       "3      https://quotes.toscrape.com/author/Jane-Austen  \n",
       "4   https://quotes.toscrape.com/author/Marilyn-Monroe  \n",
       "..                                                ...  \n",
       "95      https://quotes.toscrape.com/author/Harper-Lee  \n",
       "96  https://quotes.toscrape.com/author/Madeleine-L...  \n",
       "97      https://quotes.toscrape.com/author/Mark-Twain  \n",
       "98        https://quotes.toscrape.com/author/Dr-Seuss  \n",
       "99  https://quotes.toscrape.com/author/George-R-R-...  \n",
       "\n",
       "[100 rows x 3 columns]"
      ]
     },
     "execution_count": 11,
     "metadata": {},
     "output_type": "execute_result"
    }
   ],
   "source": [
    "import requests as rq\n",
    "from bs4 import BeautifulSoup\n",
    "import time\n",
    "\n",
    "text_list = []\n",
    "author_list = []\n",
    "infor_list = []\n",
    "\n",
    "for i in range(1, 100):\n",
    "    url = f'https://quotes.toscrape.com/page/{i}/'\n",
    "    quote = rq.get(url)\n",
    "    quote_html = BeautifulSoup(quote.content, 'html.parser')\n",
    "\n",
    "    quote_text = quote_html.select('div.quote > span.text')\n",
    "    quote_text_list = [i.text for i in quote_text]\n",
    "\n",
    "    quote_author = quote_html.select('div.quote > span > small.author')\n",
    "    quote_author_list = [i.text for i in quote_author]\n",
    "\n",
    "    quote_link = quote_html.select('div.quote > span > a')\n",
    "    quote_link_list = ['https://quotes.toscrape.com' + i['href'] for i in quote_link]\n",
    "\n",
    "    if len(quote_text_list) > 0:\n",
    "        text_list.extend(quote_text_list)\n",
    "        author_list.extend(quote_author_list)\n",
    "        infor_list.extend(quote_link_list)\n",
    "        time.sleep(1)\n",
    "    else:\n",
    "        break\n",
    "\n",
    "import pandas as pd\n",
    "pd.DataFrame({'text': text_list, 'author': author_list, 'infor': infor_list})"
   ]
  },
  {
   "cell_type": "code",
   "execution_count": 15,
   "metadata": {},
   "outputs": [
    {
     "data": {
      "text/plain": [
       "['다올證 \"아프리카TV, 급등에도 밸류에이션 매력 높아\"',\n",
       " 'BGF리테일, 주가 역대급 저평가…저점 매수 전략 유효 -한화',\n",
       " '한화증권, BFG리테일 목표가 하향...\"객수 턴어라운드 필요\"',\n",
       " 'PI첨단소재, 업황 바닥에 회복 속도 더뎌…목표가↓-한국',\n",
       " '美긴축 종료 아직? 뉴욕증시 우수수 하락 [월가월부]',\n",
       " '뉴욕증시, 인플레이션 심려에 하락 마감…애플 3.58%·테슬라 1.78↓',\n",
       " '\"항공사, 고유가 뚫고 3Q 사상 최대 영업익 달성…최선호주는 대한항공\"',\n",
       " '“오늘 韓 증시 하락 출발”…中 공무원 아이폰 금지령 타격',\n",
       " '고유가 공포 엄습…투자처 잃은 대기성자금 급증[뉴스새벽배송]',\n",
       " '\"코웨이, 비우호적 시장 수급에 목표가 ↓\"-KB',\n",
       " '국내 증권업, 느린 회복 국면…\"고배당 주는 종목 노려야\"',\n",
       " '증권업 느린 회복 이어진다, 고배당 위주의 접근 유효-이베스트',\n",
       " '총선 다가오자 한동훈 테마주, 큰 폭 등락…기관·외인 매수세',\n",
       " '필옵틱스, 연말 시가배당률 15% 이상…내년 디스플레이 투자 수혜도 기대-NH',\n",
       " '\"립스틱 효과 짙어지는 中…유커 수혜는 올리브영\"',\n",
       " 'LG화학·포스코퓨처엠·에코프로비엠이 고민하는 이유',\n",
       " '올해 세계에서 가장 많이 오른 주식은 한국의 ‘0000’ 919%↑',\n",
       " '기름에 미끄러진 코스피…\"고유가 변수에 주목할 테마는\"']"
      ]
     },
     "execution_count": 15,
     "metadata": {},
     "output_type": "execute_result"
    }
   ],
   "source": [
    "# 금융속보 크롤링\n",
    "# 네이버금융 실시간속보: https://finance.naver.com/news/news_list.naver?mode=LSS2D&section_id=101&section_id2=258\n",
    "\n",
    "import requests as rq\n",
    "from bs4 import BeautifulSoup\n",
    "\n",
    "url = 'https://finance.naver.com/news/news_list.naver?mode=LSS2D&section_id=101&section_id2=258'\n",
    "data = rq.get(url)\n",
    "html = BeautifulSoup(data.content, 'html.parser')\n",
    "html_select = html.select('dl > dd.articleSubject > a')\n",
    "\n",
    "[i['title'] for i in html_select]"
   ]
  },
  {
   "cell_type": "code",
   "execution_count": 1,
   "metadata": {},
   "outputs": [
    {
     "data": {
      "text/html": [
       "<div>\n",
       "<style scoped>\n",
       "    .dataframe tbody tr th:only-of-type {\n",
       "        vertical-align: middle;\n",
       "    }\n",
       "\n",
       "    .dataframe tbody tr th {\n",
       "        vertical-align: top;\n",
       "    }\n",
       "\n",
       "    .dataframe thead th {\n",
       "        text-align: right;\n",
       "    }\n",
       "</style>\n",
       "<table border=\"1\" class=\"dataframe\">\n",
       "  <thead>\n",
       "    <tr style=\"text-align: right;\">\n",
       "      <th></th>\n",
       "      <th>Country</th>\n",
       "      <th>Total market cap (in mil. US$)[2]</th>\n",
       "      <th>Total market cap (% of GDP)[3]</th>\n",
       "      <th>Number of domestic companies listed[4]</th>\n",
       "      <th>Year</th>\n",
       "    </tr>\n",
       "  </thead>\n",
       "  <tbody>\n",
       "    <tr>\n",
       "      <th>0</th>\n",
       "      <td>United States</td>\n",
       "      <td>44719661</td>\n",
       "      <td>194.5</td>\n",
       "      <td>4266</td>\n",
       "      <td>2020</td>\n",
       "    </tr>\n",
       "    <tr>\n",
       "      <th>1</th>\n",
       "      <td>China</td>\n",
       "      <td>13214311</td>\n",
       "      <td>83.0</td>\n",
       "      <td>4154</td>\n",
       "      <td>2020</td>\n",
       "    </tr>\n",
       "    <tr>\n",
       "      <th>2</th>\n",
       "      <td>Japan</td>\n",
       "      <td>6718220</td>\n",
       "      <td>122.2</td>\n",
       "      <td>3754</td>\n",
       "      <td>2020</td>\n",
       "    </tr>\n",
       "    <tr>\n",
       "      <th>3</th>\n",
       "      <td>Hong Kong</td>\n",
       "      <td>6130420</td>\n",
       "      <td>1768.8</td>\n",
       "      <td>2353</td>\n",
       "      <td>2020</td>\n",
       "    </tr>\n",
       "    <tr>\n",
       "      <th>4</th>\n",
       "      <td>India</td>\n",
       "      <td>3,612,985[5]</td>\n",
       "      <td>103.0</td>\n",
       "      <td>5270</td>\n",
       "      <td>2023</td>\n",
       "    </tr>\n",
       "  </tbody>\n",
       "</table>\n",
       "</div>"
      ],
      "text/plain": [
       "         Country Total market cap (in mil. US$)[2]  \\\n",
       "0  United States                          44719661   \n",
       "1          China                          13214311   \n",
       "2          Japan                           6718220   \n",
       "3      Hong Kong                           6130420   \n",
       "4          India                      3,612,985[5]   \n",
       "\n",
       "   Total market cap (% of GDP)[3] Number of domestic companies listed[4]  Year  \n",
       "0                           194.5                                   4266  2020  \n",
       "1                            83.0                                   4154  2020  \n",
       "2                           122.2                                   3754  2020  \n",
       "3                          1768.8                                   2353  2020  \n",
       "4                           103.0                                   5270  2023  "
      ]
     },
     "execution_count": 1,
     "metadata": {},
     "output_type": "execute_result"
    }
   ],
   "source": [
    "# 표 크롤링\n",
    "# 국가별 GDP: https://en.wikipedia.org/wiki/List_of_countries_by_stock_market_capitalization\n",
    "\n",
    "import pandas as pd\n",
    "\n",
    "url = 'https://en.wikipedia.org/wiki/List_of_countries_by_stock_market_capitalization'\n",
    "tbl = pd.read_html(url)\n",
    "\n",
    "tbl[0].head()"
   ]
  },
  {
   "cell_type": "code",
   "execution_count": 7,
   "metadata": {},
   "outputs": [
    {
     "data": {
      "text/html": [
       "<div>\n",
       "<style scoped>\n",
       "    .dataframe tbody tr th:only-of-type {\n",
       "        vertical-align: middle;\n",
       "    }\n",
       "\n",
       "    .dataframe tbody tr th {\n",
       "        vertical-align: top;\n",
       "    }\n",
       "\n",
       "    .dataframe thead th {\n",
       "        text-align: right;\n",
       "    }\n",
       "</style>\n",
       "<table border=\"1\" class=\"dataframe\">\n",
       "  <thead>\n",
       "    <tr style=\"text-align: right;\">\n",
       "      <th></th>\n",
       "      <th>Unnamed: 0</th>\n",
       "      <th>Unnamed: 1</th>\n",
       "      <th>Unnamed: 2</th>\n",
       "      <th>Unnamed: 3</th>\n",
       "      <th>Unnamed: 4</th>\n",
       "    </tr>\n",
       "  </thead>\n",
       "  <tbody>\n",
       "    <tr>\n",
       "      <th>0</th>\n",
       "      <td>08:06</td>\n",
       "      <td>현대로템</td>\n",
       "      <td>투자설명서</td>\n",
       "      <td>현대로템</td>\n",
       "      <td>공시차트  주가차트</td>\n",
       "    </tr>\n",
       "    <tr>\n",
       "      <th>1</th>\n",
       "      <td>07:30</td>\n",
       "      <td>코스온</td>\n",
       "      <td>주식등의대량보유상황보고서(일반)</td>\n",
       "      <td>이동건</td>\n",
       "      <td>공시차트  주가차트</td>\n",
       "    </tr>\n",
       "    <tr>\n",
       "      <th>2</th>\n",
       "      <td>07:30</td>\n",
       "      <td>아퓨어스</td>\n",
       "      <td>주식등의대량보유상황보고서(일반)</td>\n",
       "      <td>메디제네틱스</td>\n",
       "      <td>공시차트  주가차트</td>\n",
       "    </tr>\n",
       "  </tbody>\n",
       "</table>\n",
       "</div>"
      ],
      "text/plain": [
       "  Unnamed: 0 Unnamed: 1         Unnamed: 2 Unnamed: 3  Unnamed: 4\n",
       "0      08:06       현대로템              투자설명서       현대로템  공시차트  주가차트\n",
       "1      07:30        코스온  주식등의대량보유상황보고서(일반)        이동건  공시차트  주가차트\n",
       "2      07:30       아퓨어스  주식등의대량보유상황보고서(일반)     메디제네틱스  공시차트  주가차트"
      ]
     },
     "execution_count": 7,
     "metadata": {},
     "output_type": "execute_result"
    }
   ],
   "source": [
    "# 오늘의 공시 불러오기\n",
    "# https://kind.krx.co.kr/disclosure/todaydisclosure.do?method=searchTodayDisclosureMain&marketType=0\n",
    "# 공시 조회: https://kind.krx.co.kr/disclosure/todaydisclosure.do\n",
    "\n",
    "import requests as rq\n",
    "from bs4 import BeautifulSoup\n",
    "import pandas as pd\n",
    "\n",
    "url = 'https://kind.krx.co.kr/disclosure/todaydisclosure.do'\n",
    "payload = {\n",
    "    'method': 'searchTodayDisclosureSub',\n",
    "    'currentPageSize': '15',\n",
    "    'pageIndex': '1',\n",
    "    'orderMode': '0',\n",
    "    'orderStat': 'D',\n",
    "    'forward': 'todaydisclosure_sub',\n",
    "    'chose': 'S',\n",
    "    'todayFlag': 'Y',\n",
    "    'selDate': '2023-09-07'\n",
    "}\n",
    "\n",
    "data = rq.post(url, data=payload)\n",
    "html = BeautifulSoup(data.content, 'html.parser')\n",
    "\n",
    "html_unicode = html.prettify()\n",
    "tbl = pd.read_html(html.prettify())\n",
    "\n",
    "tbl[0].head()\n"
   ]
  }
 ],
 "metadata": {
  "kernelspec": {
   "display_name": "Python 3 (ipykernel)",
   "language": "python",
   "name": "python3"
  },
  "language_info": {
   "codemirror_mode": {
    "name": "ipython",
    "version": 3
   },
   "file_extension": ".py",
   "mimetype": "text/x-python",
   "name": "python",
   "nbconvert_exporter": "python",
   "pygments_lexer": "ipython3",
   "version": "3.11.4"
  },
  "orig_nbformat": 4
 },
 "nbformat": 4,
 "nbformat_minor": 2
}
